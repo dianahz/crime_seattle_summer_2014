{
 "cells": [
  {
   "cell_type": "code",
   "execution_count": 14,
   "metadata": {},
   "outputs": [
    {
     "name": "stdout",
     "output_type": "stream",
     "text": [
      "<class 'pandas.core.frame.DataFrame'>\n",
      "RangeIndex: 32779 entries, 0 to 32778\n",
      "Data columns (total 19 columns):\n",
      "RMS CDW ID                           32779 non-null int64\n",
      "General Offense Number               32779 non-null int64\n",
      "Offense Code                         32779 non-null object\n",
      "Offense Code Extension               32779 non-null int64\n",
      "Offense Type                         32779 non-null object\n",
      "Summary Offense Code                 32779 non-null object\n",
      "Summarized Offense Description       32779 non-null object\n",
      "Date Reported                        32779 non-null datetime64[ns]\n",
      "Occurred Date or Date Range Start    32779 non-null datetime64[ns]\n",
      "Occurred Date Range End              16499 non-null datetime64[ns]\n",
      "Hundred Block Location               32779 non-null object\n",
      "District/Sector                      32722 non-null object\n",
      "Zone/Beat                            32723 non-null object\n",
      "Census Tract 2000                    32645 non-null float64\n",
      "Longitude                            32779 non-null float64\n",
      "Latitude                             32779 non-null float64\n",
      "Location                             32779 non-null object\n",
      "Month                                32779 non-null int64\n",
      "Year                                 32779 non-null int64\n",
      "dtypes: datetime64[ns](3), float64(3), int64(5), object(8)\n",
      "memory usage: 4.8+ MB\n"
     ]
    }
   ],
   "source": [
    "import numpy as np \n",
    "import pandas as pd\n",
    "import matplotlib.pyplot as plt\n",
    "import seaborn as sns\n",
    "import re\n",
    "\n",
    "seattle_data=pd.read_csv('seattle_incidents_summer_2014.csv', parse_dates=['Date Reported', 'Occurred Date or Date Range Start', 'Occurred Date Range End'], infer_datetime_format=True, low_memory=False) \n",
    "seattle_data.head()\n",
    "seattle_data.info()"
   ]
  },
  {
   "cell_type": "markdown",
   "metadata": {},
   "source": []
  },
  {
   "cell_type": "code",
   "execution_count": 13,
   "metadata": {},
   "outputs": [
    {
     "data": {
      "text/plain": [
       "<matplotlib.axes._subplots.AxesSubplot at 0x7f3d823037b8>"
      ]
     },
     "execution_count": 13,
     "metadata": {},
     "output_type": "execute_result"
    },
    {
     "data": {
      "image/png": "[encoded data removed]",
      "text/plain": [
       "<Figure size 432x288 with 1 Axes>"
      ]
     },
     "metadata": {
      "needs_background": "light"
     },
     "output_type": "display_data"
    }
   ],
   "source": [
    "timeind = pd.DatetimeIndex(seattle_data['Occurred Date or Date Range Start'])\n",
    "seattle_data['start_date'] = timeind.date.astype('datetime64')\n",
    "seattle_data['start_hour'] = timeind.hour\n",
    "by_hour = seattle_data.groupby('start_hour').agg(['count'])\n",
    "by_hour['RMS CDW ID'].plot(kind='bar')"
   ]
  },
  {
   "cell_type": "code",
   "execution_count": 17,
   "metadata": {},
   "outputs": [
    {
     "name": "stderr",
     "output_type": "stream",
     "text": [
      "/home/alex/anaconda3/lib/python3.7/site-packages/ipykernel_launcher.py:3: SettingWithCopyWarning: \n",
      "A value is trying to be set on a copy of a slice from a DataFrame.\n",
      "Try using .loc[row_indexer,col_indexer] = value instead\n",
      "\n",
      "See the caveats in the documentation: http://pandas.pydata.org/pandas-docs/stable/indexing.html#indexing-view-versus-copy\n",
      "  This is separate from the ipykernel package so we can avoid doing imports until\n",
      "/home/alex/anaconda3/lib/python3.7/site-packages/ipykernel_launcher.py:4: SettingWithCopyWarning: \n",
      "A value is trying to be set on a copy of a slice from a DataFrame.\n",
      "Try using .loc[row_indexer,col_indexer] = value instead\n",
      "\n",
      "See the caveats in the documentation: http://pandas.pydata.org/pandas-docs/stable/indexing.html#indexing-view-versus-copy\n",
      "  after removing the cwd from sys.path.\n"
     ]
    },
    {
     "data": {
      "text/plain": [
       "<matplotlib.axes._subplots.AxesSubplot at 0x7f3d820184e0>"
      ]
     },
     "execution_count": 17,
     "metadata": {},
     "output_type": "execute_result"
    },
    {
     "data": {
      "image/png": "[encoded data removed]",
      "text/plain": [
       "<Figure size 432x288 with 1 Axes>"
      ]
     },
     "metadata": {
      "needs_background": "light"
     },
     "output_type": "display_data"
    }
   ],
   "source": [
    "new_seattle_data = seattle_data.dropna(subset=['Occurred Date Range End'])\n",
    "timeind_end = pd.DatetimeIndex(new_seattle_data['Occurred Date Range End'])\n",
    "new_seattle_data['end_date'] = timeind_end.date.astype('datetime64')\n",
    "by_end_hour = new_seattle_data.groupby('end_hour').agg('count')\n",
    "by_end_hour['RMS CDW ID'].plot(kind='bar')"
   ]
  },
  {
   "cell_type": "code",
   "execution_count": 66,
   "metadata": {},
   "outputs": [
    {
     "data": {
      "text/plain": [
       "07/01/2014 12:00:00 AM    46\n",
       "08/01/2014 12:00:00 PM    33\n",
       "07/25/2014 08:00:00 PM    24\n",
       "08/01/2014 12:00:00 AM    23\n",
       "06/01/2014 12:00:00 AM    22\n",
       "08/02/2014 12:00:00 PM    22\n",
       "06/18/2014 07:00:00 PM    21\n",
       "07/25/2014 05:00:00 PM    21\n",
       "08/25/2014 09:00:00 PM    21\n",
       "06/02/2014 08:00:00 PM    20\n",
       "07/06/2014 11:00:00 PM    20\n",
       "08/20/2014 10:00:00 PM    20\n",
       "06/10/2014 10:00:00 PM    20\n",
       "06/05/2014 11:00:00 PM    20\n",
       "08/21/2014 09:00:00 PM    20\n",
       "06/08/2014 10:00:00 PM    20\n",
       "06/06/2014 12:00:00 AM    20\n",
       "06/08/2014 09:00:00 PM    20\n",
       "06/20/2014 12:00:00 AM    19\n",
       "08/20/2014 09:00:00 PM    19\n",
       "06/27/2014 10:00:00 PM    18\n",
       "06/22/2014 06:00:00 PM    18\n",
       "08/18/2014 12:00:00 PM    18\n",
       "06/26/2014 06:00:00 PM    18\n",
       "06/13/2014 12:00:00 AM    18\n",
       "06/15/2014 12:00:00 PM    18\n",
       "06/21/2014 07:00:00 PM    17\n",
       "07/26/2014 09:00:00 PM    17\n",
       "08/25/2014 05:00:00 PM    17\n",
       "08/29/2014 05:00:00 PM    17\n",
       "                          ..\n",
       "06/06/2014 12:38:00 PM     1\n",
       "06/02/2014 03:07:00 AM     1\n",
       "06/04/2014 08:14:00 PM     1\n",
       "07/27/2014 07:23:00 PM     1\n",
       "06/02/2014 11:40:00 AM     1\n",
       "06/20/2014 02:11:00 PM     1\n",
       "07/04/2014 11:43:00 PM     1\n",
       "07/15/2014 05:35:00 PM     1\n",
       "07/03/2014 11:47:00 PM     1\n",
       "07/26/2014 11:22:00 PM     1\n",
       "06/04/2014 07:40:00 PM     1\n",
       "07/12/2014 05:40:00 AM     1\n",
       "08/31/2014 09:00:00 AM     1\n",
       "06/04/2014 08:15:00 PM     1\n",
       "08/13/2014 06:30:00 AM     1\n",
       "06/15/2014 08:35:00 AM     1\n",
       "08/04/2014 02:55:00 AM     1\n",
       "06/17/2014 08:30:00 PM     1\n",
       "06/15/2014 10:45:00 PM     1\n",
       "07/10/2014 08:20:00 PM     1\n",
       "06/10/2014 07:54:00 PM     1\n",
       "06/17/2014 12:01:00 AM     1\n",
       "06/16/2014 06:12:00 PM     1\n",
       "06/10/2014 09:43:00 AM     1\n",
       "07/16/2014 03:55:00 PM     1\n",
       "07/26/2014 01:50:00 PM     1\n",
       "08/03/2014 01:53:00 PM     1\n",
       "07/17/2014 09:36:00 AM     1\n",
       "07/11/2014 10:48:00 AM     1\n",
       "08/08/2014 06:15:00 AM     1\n",
       "Name: Occurred Date or Date Range Start, Length: 11557, dtype: int64"
      ]
     },
     "execution_count": 66,
     "metadata": {},
     "output_type": "execute_result"
    }
   ],
   "source": [
    "seattle_data['Occurred Date or Date Range Start'].value_counts()"
   ]
  },
  {
   "cell_type": "code",
   "execution_count": 54,
   "metadata": {},
   "outputs": [
    {
     "data": {
      "text/html": [
       "<div>\n",
       "<style scoped>\n",
       "    .dataframe tbody tr th:only-of-type {\n",
       "        vertical-align: middle;\n",
       "    }\n",
       "\n",
       "    .dataframe tbody tr th {\n",
       "        vertical-align: top;\n",
       "    }\n",
       "\n",
       "    .dataframe thead th {\n",
       "        text-align: right;\n",
       "    }\n",
       "</style>\n",
       "<table border=\"1\" class=\"dataframe\">\n",
       "  <thead>\n",
       "    <tr style=\"text-align: right;\">\n",
       "      <th></th>\n",
       "      <th>Category</th>\n",
       "      <th>Descript</th>\n",
       "      <th>DayOfWeek</th>\n",
       "      <th>Date</th>\n",
       "      <th>Time</th>\n",
       "      <th>PdDistrict</th>\n",
       "      <th>Resolution</th>\n",
       "      <th>Address</th>\n",
       "      <th>X</th>\n",
       "      <th>Y</th>\n",
       "      <th>Location</th>\n",
       "      <th>PdId</th>\n",
       "    </tr>\n",
       "    <tr>\n",
       "      <th>IncidntNum</th>\n",
       "      <th></th>\n",
       "      <th></th>\n",
       "      <th></th>\n",
       "      <th></th>\n",
       "      <th></th>\n",
       "      <th></th>\n",
       "      <th></th>\n",
       "      <th></th>\n",
       "      <th></th>\n",
       "      <th></th>\n",
       "      <th></th>\n",
       "      <th></th>\n",
       "    </tr>\n",
       "  </thead>\n",
       "  <tbody>\n",
       "    <tr>\n",
       "      <th>140734311</th>\n",
       "      <td>ARSON</td>\n",
       "      <td>ARSON OF A VEHICLE</td>\n",
       "      <td>Sunday</td>\n",
       "      <td>08/31/2014</td>\n",
       "      <td>23:50</td>\n",
       "      <td>BAYVIEW</td>\n",
       "      <td>NONE</td>\n",
       "      <td>LOOMIS ST / INDUSTRIAL ST</td>\n",
       "      <td>-122.405647</td>\n",
       "      <td>37.738322</td>\n",
       "      <td>(37.7383221869053, -122.405646994567)</td>\n",
       "      <td>14073431126031</td>\n",
       "    </tr>\n",
       "    <tr>\n",
       "      <th>140736317</th>\n",
       "      <td>NON-CRIMINAL</td>\n",
       "      <td>LOST PROPERTY</td>\n",
       "      <td>Sunday</td>\n",
       "      <td>08/31/2014</td>\n",
       "      <td>23:45</td>\n",
       "      <td>MISSION</td>\n",
       "      <td>NONE</td>\n",
       "      <td>400 Block of CASTRO ST</td>\n",
       "      <td>-122.435012</td>\n",
       "      <td>37.761768</td>\n",
       "      <td>(37.7617677182954, -122.435012093789)</td>\n",
       "      <td>14073631771000</td>\n",
       "    </tr>\n",
       "    <tr>\n",
       "      <th>146177923</th>\n",
       "      <td>LARCENY/THEFT</td>\n",
       "      <td>GRAND THEFT FROM LOCKED AUTO</td>\n",
       "      <td>Sunday</td>\n",
       "      <td>08/31/2014</td>\n",
       "      <td>23:30</td>\n",
       "      <td>SOUTHERN</td>\n",
       "      <td>NONE</td>\n",
       "      <td>1000 Block of MISSION ST</td>\n",
       "      <td>-122.409795</td>\n",
       "      <td>37.780036</td>\n",
       "      <td>(37.7800356268394, -122.409795194505)</td>\n",
       "      <td>14617792306244</td>\n",
       "    </tr>\n",
       "    <tr>\n",
       "      <th>146177531</th>\n",
       "      <td>LARCENY/THEFT</td>\n",
       "      <td>GRAND THEFT FROM LOCKED AUTO</td>\n",
       "      <td>Sunday</td>\n",
       "      <td>08/31/2014</td>\n",
       "      <td>23:30</td>\n",
       "      <td>RICHMOND</td>\n",
       "      <td>NONE</td>\n",
       "      <td>FULTON ST / 26TH AV</td>\n",
       "      <td>-122.485263</td>\n",
       "      <td>37.772518</td>\n",
       "      <td>(37.7725176473142, -122.485262988324)</td>\n",
       "      <td>14617753106244</td>\n",
       "    </tr>\n",
       "    <tr>\n",
       "      <th>140734220</th>\n",
       "      <td>NON-CRIMINAL</td>\n",
       "      <td>FOUND PROPERTY</td>\n",
       "      <td>Sunday</td>\n",
       "      <td>08/31/2014</td>\n",
       "      <td>23:23</td>\n",
       "      <td>RICHMOND</td>\n",
       "      <td>NONE</td>\n",
       "      <td>800 Block of LA PLAYA ST</td>\n",
       "      <td>-122.509895</td>\n",
       "      <td>37.772313</td>\n",
       "      <td>(37.7723131976814, -122.509895418239)</td>\n",
       "      <td>14073422072000</td>\n",
       "    </tr>\n",
       "  </tbody>\n",
       "</table>\n",
       "</div>"
      ],
      "text/plain": [
       "                 Category                      Descript DayOfWeek        Date  \\\n",
       "IncidntNum                                                                      \n",
       "140734311           ARSON            ARSON OF A VEHICLE    Sunday  08/31/2014   \n",
       "140736317    NON-CRIMINAL                 LOST PROPERTY    Sunday  08/31/2014   \n",
       "146177923   LARCENY/THEFT  GRAND THEFT FROM LOCKED AUTO    Sunday  08/31/2014   \n",
       "146177531   LARCENY/THEFT  GRAND THEFT FROM LOCKED AUTO    Sunday  08/31/2014   \n",
       "140734220    NON-CRIMINAL                FOUND PROPERTY    Sunday  08/31/2014   \n",
       "\n",
       "             Time PdDistrict Resolution                    Address  \\\n",
       "IncidntNum                                                           \n",
       "140734311   23:50    BAYVIEW       NONE  LOOMIS ST / INDUSTRIAL ST   \n",
       "140736317   23:45    MISSION       NONE     400 Block of CASTRO ST   \n",
       "146177923   23:30   SOUTHERN       NONE   1000 Block of MISSION ST   \n",
       "146177531   23:30   RICHMOND       NONE        FULTON ST / 26TH AV   \n",
       "140734220   23:23   RICHMOND       NONE   800 Block of LA PLAYA ST   \n",
       "\n",
       "                     X          Y                               Location  \\\n",
       "IncidntNum                                                                 \n",
       "140734311  -122.405647  37.738322  (37.7383221869053, -122.405646994567)   \n",
       "140736317  -122.435012  37.761768  (37.7617677182954, -122.435012093789)   \n",
       "146177923  -122.409795  37.780036  (37.7800356268394, -122.409795194505)   \n",
       "146177531  -122.485263  37.772518  (37.7725176473142, -122.485262988324)   \n",
       "140734220  -122.509895  37.772313  (37.7723131976814, -122.509895418239)   \n",
       "\n",
       "                      PdId  \n",
       "IncidntNum                  \n",
       "140734311   14073431126031  \n",
       "140736317   14073631771000  \n",
       "146177923   14617792306244  \n",
       "146177531   14617753106244  \n",
       "140734220   14073422072000  "
      ]
     },
     "execution_count": 54,
     "metadata": {},
     "output_type": "execute_result"
    }
   ],
   "source": [
    "sanfrancisco_data=pd.read_csv('sanfrancisco_incidents_summer_2014.csv', low_memory=False) \n",
    "sanfrancisco_data.set_index('IncidntNum', inplace=True)\n",
    "sanfrancisco_data.index\n",
    "sanfrancisco_data.head(5)"
   ]
  },
  {
   "cell_type": "code",
   "execution_count": 80,
   "metadata": {},
   "outputs": [
    {
     "data": {
      "text/plain": [
       "<matplotlib.axes._subplots.AxesSubplot at 0x7f2a9b7ea748>"
      ]
     },
     "execution_count": 80,
     "metadata": {},
     "output_type": "execute_result"
    },
    {
     "data": {
      "image/png": "[encoded data removed]",
      "text/plain": [
       "<Figure size 432x288 with 1 Axes>"
      ]
     },
     "metadata": {
      "needs_background": "light"
     },
     "output_type": "display_data"
    }
   ],
   "source": [
    "sanfrancisco_data['hour']=sanfrancisco_data['Time'].apply(lambda x: x[:2])\n",
    "sanfrancisco_data['hour'].astype(int, inplace=True)\n",
    "h = sanfrancisco_data['hour'].value_counts()\n",
    "h = sanfrancisco_data.groupby('hour').agg(['count'])\n",
    "h['Category'].plot(kind='bar')\n",
    "#plt.show()"
   ]
  },
  {
   "cell_type": "code",
   "execution_count": 84,
   "metadata": {},
   "outputs": [
    {
     "data": {
      "image/png": "[encoded data removed]",
      "text/plain": [
       "<Figure size 432x288 with 1 Axes>"
      ]
     },
     "metadata": {
      "needs_background": "light"
     },
     "output_type": "display_data"
    }
   ],
   "source": [
    "sanfrancisco_data['minutes']=sanfrancisco_data['Time'].apply(lambda x: x[3:])\n",
    "h = sanfrancisco_data.groupby('minutes').agg(['count'])\n",
    "h['Category'].plot(kind='bar')\n",
    "plt.show()"
   ]
  },
  {
   "cell_type": "code",
   "execution_count": 99,
   "metadata": {},
   "outputs": [
    {
     "data": {
      "text/plain": [
       "<matplotlib.axes._subplots.AxesSubplot at 0x7f2a9b2b2f28>"
      ]
     },
     "execution_count": 99,
     "metadata": {},
     "output_type": "execute_result"
    },
    {
     "data": {
      "image/png": "[encoded data removed]",
      "text/plain": [
       "<Figure size 432x288 with 1 Axes>"
      ]
     },
     "metadata": {
      "needs_background": "light"
     },
     "output_type": "display_data"
    }
   ],
   "source": [
    "sanfrancisco_data['minutes'] = sanfrancisco_data['minutes'].astype(int)\n",
    "sanfrancisco_data['min_fraq'] = sanfrancisco_data['minutes'].apply(lambda x: x%30)\n",
    "sanfrancisco_data['min_fraq'].value_counts().plot(kind='bar')"
   ]
  },
  {
   "cell_type": "code",
   "execution_count": null,
   "metadata": {},
   "outputs": [],
   "source": []
  }
 ],
 "metadata": {
  "kernelspec": {
   "display_name": "Python 3",
   "language": "python",
   "name": "python3"
  },
  "language_info": {
   "codemirror_mode": {
    "name": "ipython",
    "version": 3
   },
   "file_extension": ".py",
   "mimetype": "text/x-python",
   "name": "python",
   "nbconvert_exporter": "python",
   "pygments_lexer": "ipython3",
   "version": "3.7.3"
  }
 },
 "nbformat": 4,
 "nbformat_minor": 2
}
